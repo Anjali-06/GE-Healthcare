{
 "cells": [
  {
   "cell_type": "code",
   "execution_count": 15,
   "metadata": {},
   "outputs": [],
   "source": [
    "import nltk\n",
    "from stop_words import get_stop_words\n",
    "from nltk.probability  import FreqDist\n",
    "import pandas as pd\n",
    "\n",
    "stopwords_en = get_stop_words('en')\n"
   ]
  },
  {
   "cell_type": "code",
   "execution_count": 16,
   "metadata": {},
   "outputs": [],
   "source": [
    "#corpus of documents\n",
    "df=pd.read_excel(\"C:\\\\Users\\\\Amitabh Tiwari\\\\ibm-hack\\\\articles.xlsx\")\n",
    "data=[]\n",
    "\n",
    "for v in df['content']:\n",
    "    data.append(v)"
   ]
  },
  {
   "cell_type": "code",
   "execution_count": 17,
   "metadata": {},
   "outputs": [
    {
     "name": "stdout",
     "output_type": "stream",
     "text": [
      "Similarity % : 6.19, 5.67, 5.85, 19.78, 6.43, 3.38, 17.12, 15.19, 12.07, 15.59, 19.98, 0.0, 0.0, 0.0, 0.0, 0.0, 0.0, 0.0, 0.0, 0.0, 0.0, 0.0, 0.0, 0.0, 0.0, 0.0, 12.03, 0.0, 0.0, 0.0, 0.0, 0.0, 4.83, 0.0, 0.0, 0.0, 0.0, 0.0, 0.0, 0.0, 0.0, 0.0, 0.0, 0.0, 0.0, 0.0, 0.0, 0.0, 0.0, 0.0, 0.0, 8.71, 11.06, 8.24, 11.6, 15.04, 13.98, 13.16, 12.03\n"
     ]
    }
   ],
   "source": [
    "#stop words of english are removed by the below function\n",
    "def preprocessing(raw):\n",
    "    wordlist=nltk.word_tokenize(raw)\n",
    "    text=[w.lower() for w in wordlist if w not in stopwords_en]\n",
    "    return text\n",
    "\n",
    "\n",
    "similarity_scores = []\n",
    "doc_number = []\n",
    "\n",
    "#We need to find documents that are similar to sample_doc from the corpus built above - data .\n",
    "\n",
    "\n",
    "sample_doc = '''how should i deal with Fear.Feeling scared and worried'''\n",
    "\n",
    "word_set= {'hindustan unilever'}\n",
    "\n",
    "for doc in data:\n",
    "    word_set=word_set.union(set(preprocessing(doc)))\n",
    "word_set=word_set.union(set(preprocessing(sample_doc)))\n",
    "\n",
    "\n",
    "i=0\n",
    "for doc in data:\n",
    "    text1=preprocessing(doc)\n",
    "    text2=preprocessing(sample_doc)\n",
    "\n",
    "    #TF Calculations\n",
    "\n",
    "    freqd_text1=FreqDist(text1)\n",
    "    text1_length=len(text1)\n",
    "\n",
    "    text1_tf_dict = dict.fromkeys(word_set,0)\n",
    "    for word in text1:\n",
    "        text1_tf_dict[word] = freqd_text1[word]/text1_length\n",
    "\n",
    "\n",
    "    freqd_text2=FreqDist(text2)\n",
    "    text2_length=len(text2)\n",
    "\n",
    "    text2_tf_dict = dict.fromkeys(word_set,0)\n",
    "    for word in text2:\n",
    "        text2_tf_dict[word] = freqd_text2[word]/text2_length\n",
    "\n",
    "\n",
    "    #IDF Calculations\n",
    "\n",
    "    text12_idf_dict=dict.fromkeys(word_set,0)\n",
    "    text12_length = len(data)\n",
    "    for word in text12_idf_dict.keys():\n",
    "        if word in text1:\n",
    "            text12_idf_dict[word]+=1\n",
    "        if word in text2:\n",
    "            text12_idf_dict[word]+=1\n",
    "\n",
    "    import math\n",
    "    for word,val  in text12_idf_dict.items():\n",
    "        if val == 0 :\n",
    "            val=0.01\n",
    "            text12_idf_dict[word]=1+math.log(text12_length/(float(val)))\n",
    "\n",
    "\n",
    "    #TF-IDF Calculations\n",
    "\n",
    "    text1_tfidf_dict=dict.fromkeys(word_set,0)\n",
    "    for word in text1:\n",
    "        text1_tfidf_dict[word] = (text1_tf_dict[word])*(text12_idf_dict[word])\n",
    "\n",
    "    text2_tfidf_dict=dict.fromkeys(word_set,0)\n",
    "    for word in text2:\n",
    "        text2_tfidf_dict[word] = (text2_tf_dict[word])*(text12_idf_dict[word])\n",
    "\n",
    "\n",
    "    #Finding cosine distance which ranges between 0 and 1. 1 implies documents are similar since cos-inverse(0)=1 that is \n",
    "    #vectors are collinear.cos-inverse(90)=1 that is vectors are othogonal to each other implying compltely dissimilar.\n",
    "\n",
    "    v1=list(text1_tfidf_dict.values())\n",
    "    v2=list(text2_tfidf_dict.values())\n",
    "\n",
    "    similarity= 1- nltk.cluster.cosine_distance(v1,v2)\n",
    "    doc_number.append(int(i))\n",
    "    similarity_scores.append(float(format(similarity*100,'4.2f')))\n",
    "    i=i+1\n",
    "\n",
    "    #print(\"Similarity Index = {:4.2f} % \".format(similarity*100))\n",
    "\n",
    "#print('Document IDs : ' + ', '.join(str(e) for e in doc_number))    \n",
    "print('Similarity % : ' + ', '.join(str(e) for e in similarity_scores))\n"
   ]
  },
  {
   "cell_type": "code",
   "execution_count": 18,
   "metadata": {},
   "outputs": [
    {
     "name": "stdout",
     "output_type": "stream",
     "text": [
      "\n",
      "\n",
      " Tip to deal with Fear : The Fear of the Past Repeating Itself Perhaps you have some skeletons in your closet that still haunt you; many people do. If you constantly worry about experiencing a bad case of deja vu, you’re likely allowing negative thoughts to dictate your actions, forcing you to live in the past instead of enjoying the moment.  Learn how to recognize your fear of the past; write down your anxieties and acknowledge them. Give yourself a well-deserved pat on the back for overcoming i\n",
      "\n",
      "\n",
      " Tip to deal with Fear :We’re all scared of something.  Do you get heart palpitations at the idea of speaking in front of big groups at work? Are you worried you’ll never actually learn to swim? Do you stare at the ceiling, thinking you’ll never write that book you’ve been dreaming about for years?  Me, too. I’ve deeply felt all three of those exact fears, along with many others. But those fears are just a few I’ve started overcoming using a little happiness hack I can share with you.  Are you re\n",
      "\n",
      "\n",
      " Tip to deal with Fear :The Fear of Rejection Everyone wants to be accepted; that’s what makes the fear of rejection such a common one. Overcoming this fear requires you to do some soul-searching about who you are and what’s important to you.  The better you know (and appreciate) yourself, the less concerned you’ll be about gaining the approval of others   Read more at http://www.beliefnet.com/columnists/everydayinspiration/2014/05/how-to-overcome-the-five-biggest-fears.html#kGIzqqcmJ1gChTlt.99\n",
      "\n",
      "\n",
      " Tip to deal with Fear : The Fear of Losing Control The idea of losing control can be overwhelming, but in reality, succumbing to fear is the ultimate loss of control.  Focus on controlling your own emotions, your response to your fear – once you do that, you’ll achieve the ultimate control and inner peace.   Read more at http://www.beliefnet.com/columnists/everydayinspiration/2014/05/how-to-overcome-the-five-biggest-fears.html#kGIzqqcmJ1gChTlt.99\n",
      "\n",
      "\n",
      " Tip to deal with Fear :The Fear of Failure Rethink your idea of what failure is; rather than focusing on the chance that you might fail, get excited thinking that you may succeed! Break down your goals into small, measurable steps to eliminate the all-or-nothing mindset that often fuels a fear of failure.  If you set out to run a marathon only to quit running halfway through, celebrate the fact that you just ran 13 miles!  True failure is when your fears keep you from trying in the first place. \n"
     ]
    }
   ],
   "source": [
    "#Based on similarity scores computed previously sort the document indices in ascending leading to most similar document indices\n",
    "#present at the end of array\n",
    "sorted_doc_list = [doc_number for _,doc_number in sorted(zip(similarity_scores,doc_number))]\n",
    "\n",
    "\n",
    "#printing top 3 documents which are most similar to sample_doc\n",
    "j = 0\n",
    "n=5\n",
    "for doc in reversed(sorted_doc_list):\n",
    "    print('\\n\\n',data[doc][:500])\n",
    "    j=j+1\n",
    "    if j==n :\n",
    "        break"
   ]
  },
  {
   "cell_type": "code",
   "execution_count": null,
   "metadata": {},
   "outputs": [],
   "source": []
  },
  {
   "cell_type": "code",
   "execution_count": null,
   "metadata": {},
   "outputs": [],
   "source": []
  }
 ],
 "metadata": {
  "kernelspec": {
   "display_name": "Python 3",
   "language": "python",
   "name": "python3"
  },
  "language_info": {
   "codemirror_mode": {
    "name": "ipython",
    "version": 3
   },
   "file_extension": ".py",
   "mimetype": "text/x-python",
   "name": "python",
   "nbconvert_exporter": "python",
   "pygments_lexer": "ipython3",
   "version": "3.6.4"
  }
 },
 "nbformat": 4,
 "nbformat_minor": 2
}
